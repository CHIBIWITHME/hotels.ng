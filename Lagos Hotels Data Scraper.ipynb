{
 "cells": [
  {
   "cell_type": "markdown",
   "metadata": {},
   "source": [
    "# **Project Title**  \n",
    "### *Lagos Hotels Data Scraper*  \n",
    "\n",
    "### **Project Overview**  \n",
    "This project automates the process of extracting hotel information from the <a href=\"https://hotels.ng/hotels-in-lagos\" target=\"_blank\">Hotels.ng</a> website, specifically focusing on hotels located in Lagos, Nigeria. The data collected includes essential details such as hotel names, addresses, prices, and other relevant information.\n",
    "  \n",
    "\n",
    "### **Problem Statement**  \n",
    "The hospitality industry in Lagos, Nigeria, is rapidly growing, with a wide range of hotels catering to diverse needs. However, there is a lack of readily available, consolidated data on hotel pricing, locations, ratings, facilities, etc. This makes it difficult for potential customers to make informed decisions and for businesses to conduct effective market research. This project aims to address this gap by scraping and compiling hotel data from <a href=\"https://hotels.ng/hotels-in-lagos\" target=\"_blank\">Hotels.ng</a>, providing a valuable resource for both consumers and businesses. "
   ]
  },
  {
   "cell_type": "code",
   "execution_count": 1,
   "metadata": {},
   "outputs": [],
   "source": [
    "# Import necessary libraries\n",
    "import time\n",
    "import requests\n",
    "from bs4 import BeautifulSoup\n",
    "import pandas as pd"
   ]
  },
  {
   "cell_type": "code",
   "execution_count": 2,
   "metadata": {},
   "outputs": [],
   "source": [
    "# Initialize variables\n",
    "base_url = 'https://hotels.ng/hotels-in-lagos'\n",
    "next_page = 1\n",
    "hotel_details = []"
   ]
  },
  {
   "cell_type": "code",
   "execution_count": null,
   "metadata": {},
   "outputs": [],
   "source": [
    "# Start scraping loop\n",
    "while True:\n",
    "    try:\n",
    "        # Fetch the page\n",
    "        url = f'{base_url}/{next_page}'\n",
    "        response = requests.get(url)\n",
    "        if response.status_code != 200:\n",
    "            print(f\"Failed to fetch page {next_page}. Status code: {response.status_code}\")\n",
    "            break\n",
    "\n",
    "        soup = BeautifulSoup(response.text, 'lxml')\n",
    "\n",
    "        # Find all hotels on the current page\n",
    "        hotels = soup.find_all('div', class_='listing-hotels')\n",
    "        if not hotels:\n",
    "            print(\"No more hotels found. Ending scrape.\")\n",
    "            break\n",
    "\n",
    "        for hotel in hotels:\n",
    "            # Extract hotel details\n",
    "            hotel_name = hotel.find('h2', itemprop='name')\n",
    "            hotel_name = hotel_name.text.strip() if hotel_name else 'Missing'\n",
    "\n",
    "            hotel_address = hotel.find('p', itemprop='address')\n",
    "            if hotel_address:\n",
    "                address_parts = hotel_address.text.split()\n",
    "                hotel_area = \" \".join(address_parts[:2]).replace(',', '') if len(address_parts) > 1 else 'Missing'\n",
    "                hotel_street = \" \".join(address_parts[2:]).strip('- ') if len(address_parts) > 2 else 'Missing'\n",
    "            else:\n",
    "                hotel_area = 'Missing'\n",
    "                hotel_street = 'Missing'\n",
    "\n",
    "            hotel_price = hotel.find('p', class_='listing-hotels-prices-discount')\n",
    "            hotel_price = hotel_price.text.strip().split()[0] if hotel_price else 'Missing'\n",
    "\n",
    "            hotel_rating = hotel.find('p', class_='listing-hotels-rating')\n",
    "            hotel_rating = hotel_rating.text.strip().split()[0] if hotel_rating else 'Missing'\n",
    "\n",
    "            hotel_review = hotel.find('p', class_='listing-hotels-rating-number')\n",
    "            hotel_review = \" \".join(hotel_review.text.strip().split()[1:]) if hotel_review else 'Missing'\n",
    "\n",
    "            hotel_facilities = hotel.find('div', class_='listing-hotels-facilities d-none d-md-flex')\n",
    "            hotel_facilities = \", \".join(hotel_facilities.text.split()) if hotel_facilities else 'Missing'\n",
    "\n",
    "            # Append to list\n",
    "            hotel_details.append({\n",
    "                'Name': hotel_name,\n",
    "                'Area': hotel_area,\n",
    "                'Street': hotel_street,\n",
    "                'Price': hotel_price,\n",
    "                'Rating': hotel_rating,\n",
    "                'Reviews': hotel_review,\n",
    "                'Facilities': hotel_facilities\n",
    "            })\n",
    "\n",
    "        print(f\"Scraped page {next_page}.\")\n",
    "        next_page += 1\n",
    "        time.sleep(3)  # Avoid overloading the server\n",
    "\n",
    "    except Exception as e:\n",
    "        print(f\"An error occurred: {e}\")\n",
    "        break"
   ]
  },
  {
   "cell_type": "code",
   "execution_count": null,
   "metadata": {},
   "outputs": [],
   "source": [
    "# Save data to CSV\n",
    "df = pd.DataFrame(hotel_details)\n",
    "df.to_csv('lagos_hotels.csv', index=False)\n",
    "print(\"Scraping completed. Data saved to 'lagos_hotels.csv'.\")"
   ]
  },
  {
   "cell_type": "markdown",
   "metadata": {},
   "source": [
    "### Author: *UGWUANYI ANTHONY C.*\n",
    "\n",
    "**LinkedIn:** <a href=\"https://www.linkedin.com/in/chibi-ugwuanyi-663835252/\" target=\"_blank\">chibi-ugwuanyi-663835252</a>\n",
    "\n",
    "**E-mail:** chibiugwuanyi@gmail.com"
   ]
  }
 ],
 "metadata": {
  "kernelspec": {
   "display_name": "base",
   "language": "python",
   "name": "python3"
  },
  "language_info": {
   "codemirror_mode": {
    "name": "ipython",
    "version": 3
   },
   "file_extension": ".py",
   "mimetype": "text/x-python",
   "name": "python",
   "nbconvert_exporter": "python",
   "pygments_lexer": "ipython3",
   "version": "3.12.4"
  }
 },
 "nbformat": 4,
 "nbformat_minor": 2
}
